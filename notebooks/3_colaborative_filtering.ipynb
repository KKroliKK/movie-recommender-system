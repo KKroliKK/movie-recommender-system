{
 "cells": [
  {
   "cell_type": "markdown",
   "metadata": {},
   "source": [
    "# Imports"
   ]
  },
  {
   "cell_type": "code",
   "execution_count": 1,
   "metadata": {},
   "outputs": [],
   "source": [
    "import sys\n",
    "\n",
    "import optuna\n",
    "\n",
    "sys.path.append(\"..\")\n",
    "\n",
    "from constants import U1BASE_PATH\n",
    "from benchmark.data_tramsformation import split_raw_to_train_test\n",
    "from models.models import ColaborativeModel\n",
    "from benchmark.count_metrics import count_rmse_on_dataset"
   ]
  },
  {
   "cell_type": "markdown",
   "metadata": {},
   "source": [
    "# Data"
   ]
  },
  {
   "cell_type": "code",
   "execution_count": 2,
   "metadata": {},
   "outputs": [],
   "source": [
    "train, valid = split_raw_to_train_test(U1BASE_PATH)"
   ]
  },
  {
   "cell_type": "code",
   "execution_count": 3,
   "metadata": {},
   "outputs": [
    {
     "data": {
      "text/plain": [
       "(64000, 3)"
      ]
     },
     "execution_count": 3,
     "metadata": {},
     "output_type": "execute_result"
    }
   ],
   "source": [
    "import pandas as pd\n",
    "import numpy as np\n",
    "from sklearn.model_selection import train_test_split\n",
    "\n",
    "\n",
    "udata = pd.read_csv(U1BASE_PATH, sep=\"\\t\", header=None)\n",
    "udata.columns = [\"user_id\", \"item_id\", \"rating\", \"timestamp\"]\n",
    "\n",
    "udata = np.array(udata)\n",
    "udata = udata[:, :3]\n",
    "\n",
    "train, test = train_test_split(udata, test_size=0.2)\n",
    "\n",
    "train.shape"
   ]
  },
  {
   "cell_type": "markdown",
   "metadata": {},
   "source": [
    "# Hyperparameters tunning"
   ]
  },
  {
   "cell_type": "code",
   "execution_count": 6,
   "metadata": {},
   "outputs": [],
   "source": [
    "def objective(trial):\n",
    "    num_users = trial.suggest_int(\"num_users\", 1, 900)\n",
    "    colab_model = ColaborativeModel(num_users=num_users)\n",
    "    colab_model.fit(train)\n",
    "\n",
    "    rmse = count_rmse_on_dataset(colab_model, valid)\n",
    "    \n",
    "    return rmse"
   ]
  },
  {
   "cell_type": "code",
   "execution_count": 7,
   "metadata": {},
   "outputs": [
    {
     "name": "stderr",
     "output_type": "stream",
     "text": [
      "[I 2023-12-03 22:12:01,596] A new study created in memory with name: Best number of uzers\n",
      "[W 2023-12-03 22:12:01,866] Trial 0 failed with parameters: {'num_users': 772} because of the following error: IndexError('boolean index did not match indexed array along dimension 0; dimension is 3 but corresponding boolean dimension is 1682').\n",
      "Traceback (most recent call last):\n",
      "  File \"c:\\Users\\Andrey\\anaconda3\\Lib\\site-packages\\optuna\\study\\_optimize.py\", line 200, in _run_trial\n",
      "    value_or_values = func(trial)\n",
      "                      ^^^^^^^^^^^\n",
      "  File \"C:\\Users\\Andrey\\AppData\\Local\\Temp\\ipykernel_26304\\1234051082.py\", line 6, in objective\n",
      "    rmse = count_rmse_on_dataset(colab_model, valid)\n",
      "           ^^^^^^^^^^^^^^^^^^^^^^^^^^^^^^^^^^^^^^^^^\n",
      "  File \"c:\\Studying\\Practical Machine Learning\\assignment_2\\movie-recommender-system\\notebooks\\..\\benchmark\\count_metrics.py\", line 24, in count_rmse_on_dataset\n",
      "    rmse = count_rmse(sample, pred)\n",
      "           ^^^^^^^^^^^^^^^^^^^^^^^^\n",
      "  File \"c:\\Studying\\Practical Machine Learning\\assignment_2\\movie-recommender-system\\notebooks\\..\\benchmark\\count_metrics.py\", line 8, in count_rmse\n",
      "    fitted_prediction = prediction[true_non_null]\n",
      "                        ~~~~~~~~~~^^^^^^^^^^^^^^^\n",
      "IndexError: boolean index did not match indexed array along dimension 0; dimension is 3 but corresponding boolean dimension is 1682\n",
      "[W 2023-12-03 22:12:01,867] Trial 0 failed with value None.\n"
     ]
    },
    {
     "ename": "IndexError",
     "evalue": "boolean index did not match indexed array along dimension 0; dimension is 3 but corresponding boolean dimension is 1682",
     "output_type": "error",
     "traceback": [
      "\u001b[1;31m---------------------------------------------------------------------------\u001b[0m",
      "\u001b[1;31mIndexError\u001b[0m                                Traceback (most recent call last)",
      "\u001b[1;32mc:\\Studying\\Practical Machine Learning\\assignment_2\\movie-recommender-system\\notebooks\\3_colaborative_filtering.ipynb Cell 8\u001b[0m line \u001b[0;36m2\n\u001b[0;32m      <a href='vscode-notebook-cell:/c%3A/Studying/Practical%20Machine%20Learning/assignment_2/movie-recommender-system/notebooks/3_colaborative_filtering.ipynb#X65sZmlsZQ%3D%3D?line=0'>1</a>\u001b[0m study \u001b[39m=\u001b[39m optuna\u001b[39m.\u001b[39mcreate_study(direction\u001b[39m=\u001b[39m\u001b[39m'\u001b[39m\u001b[39mminimize\u001b[39m\u001b[39m'\u001b[39m, study_name\u001b[39m=\u001b[39m\u001b[39m\"\u001b[39m\u001b[39mBest number of uzers\u001b[39m\u001b[39m\"\u001b[39m)\n\u001b[1;32m----> <a href='vscode-notebook-cell:/c%3A/Studying/Practical%20Machine%20Learning/assignment_2/movie-recommender-system/notebooks/3_colaborative_filtering.ipynb#X65sZmlsZQ%3D%3D?line=1'>2</a>\u001b[0m study\u001b[39m.\u001b[39moptimize(objective, n_trials\u001b[39m=\u001b[39m\u001b[39m5\u001b[39m)\n",
      "File \u001b[1;32mc:\\Users\\Andrey\\anaconda3\\Lib\\site-packages\\optuna\\study\\study.py:451\u001b[0m, in \u001b[0;36mStudy.optimize\u001b[1;34m(self, func, n_trials, timeout, n_jobs, catch, callbacks, gc_after_trial, show_progress_bar)\u001b[0m\n\u001b[0;32m    348\u001b[0m \u001b[39mdef\u001b[39;00m \u001b[39moptimize\u001b[39m(\n\u001b[0;32m    349\u001b[0m     \u001b[39mself\u001b[39m,\n\u001b[0;32m    350\u001b[0m     func: ObjectiveFuncType,\n\u001b[1;32m   (...)\u001b[0m\n\u001b[0;32m    357\u001b[0m     show_progress_bar: \u001b[39mbool\u001b[39m \u001b[39m=\u001b[39m \u001b[39mFalse\u001b[39;00m,\n\u001b[0;32m    358\u001b[0m ) \u001b[39m-\u001b[39m\u001b[39m>\u001b[39m \u001b[39mNone\u001b[39;00m:\n\u001b[0;32m    359\u001b[0m \u001b[39m    \u001b[39m\u001b[39m\"\"\"Optimize an objective function.\u001b[39;00m\n\u001b[0;32m    360\u001b[0m \n\u001b[0;32m    361\u001b[0m \u001b[39m    Optimization is done by choosing a suitable set of hyperparameter values from a given\u001b[39;00m\n\u001b[1;32m   (...)\u001b[0m\n\u001b[0;32m    449\u001b[0m \u001b[39m            If nested invocation of this method occurs.\u001b[39;00m\n\u001b[0;32m    450\u001b[0m \u001b[39m    \"\"\"\u001b[39;00m\n\u001b[1;32m--> 451\u001b[0m     _optimize(\n\u001b[0;32m    452\u001b[0m         study\u001b[39m=\u001b[39m\u001b[39mself\u001b[39m,\n\u001b[0;32m    453\u001b[0m         func\u001b[39m=\u001b[39mfunc,\n\u001b[0;32m    454\u001b[0m         n_trials\u001b[39m=\u001b[39mn_trials,\n\u001b[0;32m    455\u001b[0m         timeout\u001b[39m=\u001b[39mtimeout,\n\u001b[0;32m    456\u001b[0m         n_jobs\u001b[39m=\u001b[39mn_jobs,\n\u001b[0;32m    457\u001b[0m         catch\u001b[39m=\u001b[39m\u001b[39mtuple\u001b[39m(catch) \u001b[39mif\u001b[39;00m \u001b[39misinstance\u001b[39m(catch, Iterable) \u001b[39melse\u001b[39;00m (catch,),\n\u001b[0;32m    458\u001b[0m         callbacks\u001b[39m=\u001b[39mcallbacks,\n\u001b[0;32m    459\u001b[0m         gc_after_trial\u001b[39m=\u001b[39mgc_after_trial,\n\u001b[0;32m    460\u001b[0m         show_progress_bar\u001b[39m=\u001b[39mshow_progress_bar,\n\u001b[0;32m    461\u001b[0m     )\n",
      "File \u001b[1;32mc:\\Users\\Andrey\\anaconda3\\Lib\\site-packages\\optuna\\study\\_optimize.py:66\u001b[0m, in \u001b[0;36m_optimize\u001b[1;34m(study, func, n_trials, timeout, n_jobs, catch, callbacks, gc_after_trial, show_progress_bar)\u001b[0m\n\u001b[0;32m     64\u001b[0m \u001b[39mtry\u001b[39;00m:\n\u001b[0;32m     65\u001b[0m     \u001b[39mif\u001b[39;00m n_jobs \u001b[39m==\u001b[39m \u001b[39m1\u001b[39m:\n\u001b[1;32m---> 66\u001b[0m         _optimize_sequential(\n\u001b[0;32m     67\u001b[0m             study,\n\u001b[0;32m     68\u001b[0m             func,\n\u001b[0;32m     69\u001b[0m             n_trials,\n\u001b[0;32m     70\u001b[0m             timeout,\n\u001b[0;32m     71\u001b[0m             catch,\n\u001b[0;32m     72\u001b[0m             callbacks,\n\u001b[0;32m     73\u001b[0m             gc_after_trial,\n\u001b[0;32m     74\u001b[0m             reseed_sampler_rng\u001b[39m=\u001b[39m\u001b[39mFalse\u001b[39;00m,\n\u001b[0;32m     75\u001b[0m             time_start\u001b[39m=\u001b[39m\u001b[39mNone\u001b[39;00m,\n\u001b[0;32m     76\u001b[0m             progress_bar\u001b[39m=\u001b[39mprogress_bar,\n\u001b[0;32m     77\u001b[0m         )\n\u001b[0;32m     78\u001b[0m     \u001b[39melse\u001b[39;00m:\n\u001b[0;32m     79\u001b[0m         \u001b[39mif\u001b[39;00m n_jobs \u001b[39m==\u001b[39m \u001b[39m-\u001b[39m\u001b[39m1\u001b[39m:\n",
      "File \u001b[1;32mc:\\Users\\Andrey\\anaconda3\\Lib\\site-packages\\optuna\\study\\_optimize.py:163\u001b[0m, in \u001b[0;36m_optimize_sequential\u001b[1;34m(study, func, n_trials, timeout, catch, callbacks, gc_after_trial, reseed_sampler_rng, time_start, progress_bar)\u001b[0m\n\u001b[0;32m    160\u001b[0m         \u001b[39mbreak\u001b[39;00m\n\u001b[0;32m    162\u001b[0m \u001b[39mtry\u001b[39;00m:\n\u001b[1;32m--> 163\u001b[0m     frozen_trial \u001b[39m=\u001b[39m _run_trial(study, func, catch)\n\u001b[0;32m    164\u001b[0m \u001b[39mfinally\u001b[39;00m:\n\u001b[0;32m    165\u001b[0m     \u001b[39m# The following line mitigates memory problems that can be occurred in some\u001b[39;00m\n\u001b[0;32m    166\u001b[0m     \u001b[39m# environments (e.g., services that use computing containers such as GitHub Actions).\u001b[39;00m\n\u001b[0;32m    167\u001b[0m     \u001b[39m# Please refer to the following PR for further details:\u001b[39;00m\n\u001b[0;32m    168\u001b[0m     \u001b[39m# https://github.com/optuna/optuna/pull/325.\u001b[39;00m\n\u001b[0;32m    169\u001b[0m     \u001b[39mif\u001b[39;00m gc_after_trial:\n",
      "File \u001b[1;32mc:\\Users\\Andrey\\anaconda3\\Lib\\site-packages\\optuna\\study\\_optimize.py:251\u001b[0m, in \u001b[0;36m_run_trial\u001b[1;34m(study, func, catch)\u001b[0m\n\u001b[0;32m    244\u001b[0m         \u001b[39massert\u001b[39;00m \u001b[39mFalse\u001b[39;00m, \u001b[39m\"\u001b[39m\u001b[39mShould not reach.\u001b[39m\u001b[39m\"\u001b[39m\n\u001b[0;32m    246\u001b[0m \u001b[39mif\u001b[39;00m (\n\u001b[0;32m    247\u001b[0m     frozen_trial\u001b[39m.\u001b[39mstate \u001b[39m==\u001b[39m TrialState\u001b[39m.\u001b[39mFAIL\n\u001b[0;32m    248\u001b[0m     \u001b[39mand\u001b[39;00m func_err \u001b[39mis\u001b[39;00m \u001b[39mnot\u001b[39;00m \u001b[39mNone\u001b[39;00m\n\u001b[0;32m    249\u001b[0m     \u001b[39mand\u001b[39;00m \u001b[39mnot\u001b[39;00m \u001b[39misinstance\u001b[39m(func_err, catch)\n\u001b[0;32m    250\u001b[0m ):\n\u001b[1;32m--> 251\u001b[0m     \u001b[39mraise\u001b[39;00m func_err\n\u001b[0;32m    252\u001b[0m \u001b[39mreturn\u001b[39;00m frozen_trial\n",
      "File \u001b[1;32mc:\\Users\\Andrey\\anaconda3\\Lib\\site-packages\\optuna\\study\\_optimize.py:200\u001b[0m, in \u001b[0;36m_run_trial\u001b[1;34m(study, func, catch)\u001b[0m\n\u001b[0;32m    198\u001b[0m \u001b[39mwith\u001b[39;00m get_heartbeat_thread(trial\u001b[39m.\u001b[39m_trial_id, study\u001b[39m.\u001b[39m_storage):\n\u001b[0;32m    199\u001b[0m     \u001b[39mtry\u001b[39;00m:\n\u001b[1;32m--> 200\u001b[0m         value_or_values \u001b[39m=\u001b[39m func(trial)\n\u001b[0;32m    201\u001b[0m     \u001b[39mexcept\u001b[39;00m exceptions\u001b[39m.\u001b[39mTrialPruned \u001b[39mas\u001b[39;00m e:\n\u001b[0;32m    202\u001b[0m         \u001b[39m# TODO(mamu): Handle multi-objective cases.\u001b[39;00m\n\u001b[0;32m    203\u001b[0m         state \u001b[39m=\u001b[39m TrialState\u001b[39m.\u001b[39mPRUNED\n",
      "\u001b[1;32mc:\\Studying\\Practical Machine Learning\\assignment_2\\movie-recommender-system\\notebooks\\3_colaborative_filtering.ipynb Cell 8\u001b[0m line \u001b[0;36m6\n\u001b[0;32m      <a href='vscode-notebook-cell:/c%3A/Studying/Practical%20Machine%20Learning/assignment_2/movie-recommender-system/notebooks/3_colaborative_filtering.ipynb#X65sZmlsZQ%3D%3D?line=2'>3</a>\u001b[0m colab_model \u001b[39m=\u001b[39m ColaborativeModel(num_users\u001b[39m=\u001b[39mnum_users)\n\u001b[0;32m      <a href='vscode-notebook-cell:/c%3A/Studying/Practical%20Machine%20Learning/assignment_2/movie-recommender-system/notebooks/3_colaborative_filtering.ipynb#X65sZmlsZQ%3D%3D?line=3'>4</a>\u001b[0m colab_model\u001b[39m.\u001b[39mfit(train)\n\u001b[1;32m----> <a href='vscode-notebook-cell:/c%3A/Studying/Practical%20Machine%20Learning/assignment_2/movie-recommender-system/notebooks/3_colaborative_filtering.ipynb#X65sZmlsZQ%3D%3D?line=5'>6</a>\u001b[0m rmse \u001b[39m=\u001b[39m count_rmse_on_dataset(colab_model, valid)\n\u001b[0;32m      <a href='vscode-notebook-cell:/c%3A/Studying/Practical%20Machine%20Learning/assignment_2/movie-recommender-system/notebooks/3_colaborative_filtering.ipynb#X65sZmlsZQ%3D%3D?line=7'>8</a>\u001b[0m \u001b[39mreturn\u001b[39;00m rmse\n",
      "File \u001b[1;32mc:\\Studying\\Practical Machine Learning\\assignment_2\\movie-recommender-system\\notebooks\\..\\benchmark\\count_metrics.py:24\u001b[0m, in \u001b[0;36mcount_rmse_on_dataset\u001b[1;34m(model, data)\u001b[0m\n\u001b[0;32m     21\u001b[0m     \u001b[39mcontinue\u001b[39;00m\n\u001b[0;32m     23\u001b[0m pred \u001b[39m=\u001b[39m model\u001b[39m.\u001b[39mpredict(\u001b[39mid\u001b[39m)\n\u001b[1;32m---> 24\u001b[0m rmse \u001b[39m=\u001b[39m count_rmse(sample, pred)\n\u001b[0;32m     26\u001b[0m sum_rmse \u001b[39m+\u001b[39m\u001b[39m=\u001b[39m rmse\n\u001b[0;32m     27\u001b[0m num_predictions \u001b[39m+\u001b[39m\u001b[39m=\u001b[39m \u001b[39m1\u001b[39m\n",
      "File \u001b[1;32mc:\\Studying\\Practical Machine Learning\\assignment_2\\movie-recommender-system\\notebooks\\..\\benchmark\\count_metrics.py:8\u001b[0m, in \u001b[0;36mcount_rmse\u001b[1;34m(true, prediction)\u001b[0m\n\u001b[0;32m      5\u001b[0m true_non_null \u001b[39m=\u001b[39m true \u001b[39m!=\u001b[39m \u001b[39m0\u001b[39m\n\u001b[0;32m      7\u001b[0m user_non_null \u001b[39m=\u001b[39m true[true_non_null]\n\u001b[1;32m----> 8\u001b[0m fitted_prediction \u001b[39m=\u001b[39m prediction[true_non_null]\n\u001b[0;32m     10\u001b[0m rmse \u001b[39m=\u001b[39m mean_squared_error(user_non_null, fitted_prediction, squared\u001b[39m=\u001b[39m\u001b[39mFalse\u001b[39;00m)\n\u001b[0;32m     12\u001b[0m \u001b[39mreturn\u001b[39;00m rmse\n",
      "\u001b[1;31mIndexError\u001b[0m: boolean index did not match indexed array along dimension 0; dimension is 3 but corresponding boolean dimension is 1682"
     ]
    }
   ],
   "source": [
    "study = optuna.create_study(direction='minimize', study_name=\"Best number of uzers\")\n",
    "study.optimize(objective, n_trials=5)"
   ]
  },
  {
   "cell_type": "code",
   "execution_count": null,
   "metadata": {},
   "outputs": [
    {
     "name": "stdout",
     "output_type": "stream",
     "text": [
      "\n",
      "Best trial:\n",
      "  RMSE score:  2.512494308947912\n",
      "\n",
      "  Params: \n",
      "    num_users: 20\n"
     ]
    }
   ],
   "source": [
    "#!c1.32\n",
    "print(\"\\nBest trial:\")\n",
    "trial = study.best_trial\n",
    "print(\"  RMSE score: \", trial.value)\n",
    "print(\"\\n  Params: \")\n",
    "\n",
    "for key, value in trial.params.items():\n",
    "    print(\"    {}: {}\".format(key, value))"
   ]
  }
 ],
 "metadata": {
  "kernelspec": {
   "display_name": "base",
   "language": "python",
   "name": "python3"
  },
  "language_info": {
   "codemirror_mode": {
    "name": "ipython",
    "version": 3
   },
   "file_extension": ".py",
   "mimetype": "text/x-python",
   "name": "python",
   "nbconvert_exporter": "python",
   "pygments_lexer": "ipython3",
   "version": "3.11.5"
  }
 },
 "nbformat": 4,
 "nbformat_minor": 2
}
