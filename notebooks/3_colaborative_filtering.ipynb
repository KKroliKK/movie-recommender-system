{
 "cells": [
  {
   "cell_type": "markdown",
   "metadata": {},
   "source": [
    "# Imports"
   ]
  },
  {
   "cell_type": "code",
   "execution_count": 1,
   "metadata": {},
   "outputs": [],
   "source": [
    "import sys\n",
    "\n",
    "import optuna\n",
    "\n",
    "sys.path.append(\"..\")\n",
    "\n",
    "from constants import U1BASE_PATH\n",
    "from benchmark.data_tramsformation import split_raw_to_train_test\n",
    "from models.models import ColaborativeModel\n",
    "from benchmark.count_metrics import count_rmse_on_dataset"
   ]
  },
  {
   "cell_type": "markdown",
   "metadata": {},
   "source": [
    "# Data"
   ]
  },
  {
   "cell_type": "code",
   "execution_count": 2,
   "metadata": {},
   "outputs": [],
   "source": [
    "train, valid = split_raw_to_train_test(U1BASE_PATH)"
   ]
  },
  {
   "cell_type": "markdown",
   "metadata": {},
   "source": [
    "# Hyperparameters tunning"
   ]
  },
  {
   "cell_type": "code",
   "execution_count": 8,
   "metadata": {},
   "outputs": [],
   "source": [
    "def objective(trial):\n",
    "    num_users = trial.suggest_int(\"num_users\", 1, 100)\n",
    "    colab_model = ColaborativeModel(num_users=num_users)\n",
    "    colab_model.fit(train)\n",
    "\n",
    "    rmse = count_rmse_on_dataset(colab_model, valid)\n",
    "\n",
    "    return rmse"
   ]
  },
  {
   "cell_type": "code",
   "execution_count": 9,
   "metadata": {},
   "outputs": [
    {
     "name": "stderr",
     "output_type": "stream",
     "text": [
      "[I 2023-12-03 22:31:44,909] A new study created in memory with name: Best number of uzers\n",
      "[I 2023-12-03 22:31:49,221] Trial 0 finished with value: 2.7300446007496384 and parameters: {'num_users': 49}. Best is trial 0 with value: 2.7300446007496384.\n",
      "[I 2023-12-03 22:31:53,466] Trial 1 finished with value: 2.7125131013235615 and parameters: {'num_users': 30}. Best is trial 1 with value: 2.7125131013235615.\n",
      "[I 2023-12-03 22:31:57,657] Trial 2 finished with value: 2.7300446007496384 and parameters: {'num_users': 49}. Best is trial 1 with value: 2.7125131013235615.\n",
      "[I 2023-12-03 22:32:02,282] Trial 3 finished with value: 2.7717269805614153 and parameters: {'num_users': 91}. Best is trial 1 with value: 2.7125131013235615.\n",
      "[I 2023-12-03 22:32:06,505] Trial 4 finished with value: 2.7566069978263976 and parameters: {'num_users': 74}. Best is trial 1 with value: 2.7125131013235615.\n",
      "[I 2023-12-03 22:32:11,200] Trial 5 finished with value: 2.768016429336709 and parameters: {'num_users': 86}. Best is trial 1 with value: 2.7125131013235615.\n",
      "[I 2023-12-03 22:32:15,450] Trial 6 finished with value: 2.7139498736923895 and parameters: {'num_users': 32}. Best is trial 1 with value: 2.7125131013235615.\n",
      "[I 2023-12-03 22:32:19,604] Trial 7 finished with value: 2.74658915704144 and parameters: {'num_users': 65}. Best is trial 1 with value: 2.7125131013235615.\n",
      "[I 2023-12-03 22:32:24,221] Trial 8 finished with value: 2.7728260040467703 and parameters: {'num_users': 92}. Best is trial 1 with value: 2.7125131013235615.\n",
      "[I 2023-12-03 22:32:28,809] Trial 9 finished with value: 2.7660066384170827 and parameters: {'num_users': 84}. Best is trial 1 with value: 2.7125131013235615.\n",
      "[I 2023-12-03 22:32:32,827] Trial 10 finished with value: 3.113469931381482 and parameters: {'num_users': 1}. Best is trial 1 with value: 2.7125131013235615.\n",
      "[I 2023-12-03 22:32:36,923] Trial 11 finished with value: 2.7042351558752684 and parameters: {'num_users': 22}. Best is trial 11 with value: 2.7042351558752684.\n",
      "[I 2023-12-03 22:32:40,989] Trial 12 finished with value: 2.7096628344509854 and parameters: {'num_users': 18}. Best is trial 11 with value: 2.7042351558752684.\n",
      "[I 2023-12-03 22:32:45,063] Trial 13 finished with value: 2.752118242357354 and parameters: {'num_users': 6}. Best is trial 11 with value: 2.7042351558752684.\n",
      "[I 2023-12-03 22:32:49,280] Trial 14 finished with value: 2.706378145892094 and parameters: {'num_users': 21}. Best is trial 11 with value: 2.7042351558752684.\n",
      "[I 2023-12-03 22:32:53,431] Trial 15 finished with value: 2.7139498736923895 and parameters: {'num_users': 32}. Best is trial 11 with value: 2.7042351558752684.\n",
      "[I 2023-12-03 22:32:57,535] Trial 16 finished with value: 2.70898376751853 and parameters: {'num_users': 14}. Best is trial 11 with value: 2.7042351558752684.\n",
      "[I 2023-12-03 22:33:01,697] Trial 17 finished with value: 2.7096628344509854 and parameters: {'num_users': 18}. Best is trial 11 with value: 2.7042351558752684.\n",
      "[I 2023-12-03 22:33:05,834] Trial 18 finished with value: 2.7209143180380995 and parameters: {'num_users': 40}. Best is trial 11 with value: 2.7042351558752684.\n",
      "[I 2023-12-03 22:33:09,999] Trial 19 finished with value: 2.7420699209636004 and parameters: {'num_users': 61}. Best is trial 11 with value: 2.7042351558752684.\n",
      "[I 2023-12-03 22:33:14,124] Trial 20 finished with value: 2.7079941816226585 and parameters: {'num_users': 26}. Best is trial 11 with value: 2.7042351558752684.\n",
      "[I 2023-12-03 22:33:18,219] Trial 21 finished with value: 2.7060846455610283 and parameters: {'num_users': 24}. Best is trial 11 with value: 2.7042351558752684.\n",
      "[I 2023-12-03 22:33:22,369] Trial 22 finished with value: 2.7218489886368795 and parameters: {'num_users': 41}. Best is trial 11 with value: 2.7042351558752684.\n",
      "[I 2023-12-03 22:33:26,451] Trial 23 finished with value: 2.7249577661978353 and parameters: {'num_users': 9}. Best is trial 11 with value: 2.7042351558752684.\n",
      "[I 2023-12-03 22:33:30,545] Trial 24 finished with value: 2.7060846455610283 and parameters: {'num_users': 24}. Best is trial 11 with value: 2.7042351558752684.\n",
      "[I 2023-12-03 22:33:34,692] Trial 25 finished with value: 2.718477228280538 and parameters: {'num_users': 38}. Best is trial 11 with value: 2.7042351558752684.\n",
      "[I 2023-12-03 22:33:38,808] Trial 26 finished with value: 2.7079941816226585 and parameters: {'num_users': 26}. Best is trial 11 with value: 2.7042351558752684.\n",
      "[I 2023-12-03 22:33:42,913] Trial 27 finished with value: 2.7165332839529266 and parameters: {'num_users': 11}. Best is trial 11 with value: 2.7042351558752684.\n",
      "[I 2023-12-03 22:33:47,081] Trial 28 finished with value: 2.736675554200458 and parameters: {'num_users': 56}. Best is trial 11 with value: 2.7042351558752684.\n",
      "[I 2023-12-03 22:33:51,211] Trial 29 finished with value: 2.7261610768406572 and parameters: {'num_users': 45}. Best is trial 11 with value: 2.7042351558752684.\n"
     ]
    }
   ],
   "source": [
    "study = optuna.create_study(direction=\"minimize\", study_name=\"Best number of uzers\")\n",
    "study.optimize(objective, n_trials=30)"
   ]
  },
  {
   "cell_type": "code",
   "execution_count": 10,
   "metadata": {},
   "outputs": [
    {
     "name": "stdout",
     "output_type": "stream",
     "text": [
      "\n",
      "Best trial:\n",
      "  RMSE score:  2.7042351558752684\n",
      "\n",
      "  Params: \n",
      "    num_users: 22\n"
     ]
    }
   ],
   "source": [
    "print(\"\\nBest trial:\")\n",
    "trial = study.best_trial\n",
    "print(\"  RMSE score: \", trial.value)\n",
    "print(\"\\n  Params: \")\n",
    "\n",
    "for key, value in trial.params.items():\n",
    "    print(\"    {}: {}\".format(key, value))"
   ]
  },
  {
   "cell_type": "markdown",
   "metadata": {},
   "source": [
    "Let's save found value into `params.json`"
   ]
  }
 ],
 "metadata": {
  "kernelspec": {
   "display_name": "base",
   "language": "python",
   "name": "python3"
  },
  "language_info": {
   "codemirror_mode": {
    "name": "ipython",
    "version": 3
   },
   "file_extension": ".py",
   "mimetype": "text/x-python",
   "name": "python",
   "nbconvert_exporter": "python",
   "pygments_lexer": "ipython3",
   "version": "3.11.5"
  }
 },
 "nbformat": 4,
 "nbformat_minor": 2
}
